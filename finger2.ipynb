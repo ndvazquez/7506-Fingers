{
 "cells": [
  {
   "cell_type": "code",
   "execution_count": 1,
   "metadata": {},
   "outputs": [],
   "source": [
    "import pyspark\n",
    "from pyspark.sql.functions import col"
   ]
  },
  {
   "cell_type": "code",
   "execution_count": 2,
   "metadata": {},
   "outputs": [],
   "source": [
    "dataframe = sqlContext.read.csv('data/events.csv')"
   ]
  },
  {
   "cell_type": "code",
   "execution_count": 3,
   "metadata": {},
   "outputs": [
    {
     "data": {
      "text/plain": [
       "pyspark.sql.dataframe.DataFrame"
      ]
     },
     "execution_count": 3,
     "metadata": {},
     "output_type": "execute_result"
    }
   ],
   "source": [
    "type(dataframe)"
   ]
  },
  {
   "cell_type": "code",
   "execution_count": 4,
   "metadata": {},
   "outputs": [
    {
     "name": "stdout",
     "output_type": "stream",
     "text": [
      "['_c0', '_c1', '_c2', '_c3', '_c4', '_c5', '_c6', '_c7', '_c8', '_c9', '_c10', '_c11', '_c12', '_c13', '_c14', '_c15', '_c16', '_c17', '_c18', '_c19', '_c20', '_c21', '_c22']\n"
     ]
    }
   ],
   "source": [
    "print(dataframe.columns)"
   ]
  },
  {
   "cell_type": "markdown",
   "metadata": {},
   "source": [
    "# Ejercicio 1, evento con mayor frecuencia."
   ]
  },
  {
   "cell_type": "code",
   "execution_count": 5,
   "metadata": {},
   "outputs": [
    {
     "name": "stdout",
     "output_type": "stream",
     "text": [
      "+-----------------+------+\n",
      "|              _c1| count|\n",
      "+-----------------+------+\n",
      "|   viewed product|528931|\n",
      "|    brand listing| 98635|\n",
      "|     visited site| 87378|\n",
      "|  ad campaign hit| 82827|\n",
      "|  generic listing| 67534|\n",
      "|searched products| 56073|\n",
      "|search engine hit| 50957|\n",
      "|         checkout| 33735|\n",
      "|       staticpage|  3598|\n",
      "|       conversion|  1172|\n",
      "|             lead|   448|\n",
      "|            event|     1|\n",
      "+-----------------+------+\n",
      "\n"
     ]
    }
   ],
   "source": [
    "# Versión poco eficiente en memoria ya que el sort se realiza fuera del cluster (creo).\n",
    "# Esto lo hago para verificar el resultado posterior, para chequear lo que haga de forma Sparkstica.\n",
    "\n",
    "dataframe.groupBy('_c1').count().sort(col('count').desc()).show()"
   ]
  },
  {
   "cell_type": "code",
   "execution_count": 6,
   "metadata": {},
   "outputs": [
    {
     "data": {
      "text/plain": [
       "[('viewed product', 528931)]"
      ]
     },
     "execution_count": 6,
     "metadata": {},
     "output_type": "execute_result"
    }
   ],
   "source": [
    "# Vamos a tratar al dataframe como un RDD, y aplicar lo visto en clase de utilizar tuplas para poder contar\n",
    "# y ordenar los resultados con reduceByKey y un takeOrdered.\n",
    "\n",
    "dataframe.rdd.map(lambda x: (x[1], 1)).reduceByKey(lambda a,b: a+b).takeOrdered(1, lambda x: -x[1])"
   ]
  },
  {
   "cell_type": "markdown",
   "metadata": {},
   "source": [
    "# Ejercicio 2, Top 5 productos vistos."
   ]
  },
  {
   "cell_type": "code",
   "execution_count": 7,
   "metadata": {},
   "outputs": [
    {
     "data": {
      "text/plain": [
       "[('iPhone 6', 47538),\n",
       " ('iPhone 5s', 42045),\n",
       " ('iPhone 6S', 36930),\n",
       " ('iPhone 7', 26330),\n",
       " ('Samsung Galaxy S7 Edge', 23062)]"
      ]
     },
     "execution_count": 7,
     "metadata": {},
     "output_type": "execute_result"
    }
   ],
   "source": [
    "# Para encontrar el Top 5 de productos, aplicamos la misma idea que en el caso anterior,\n",
    "# sólo que antes filtramos por tipo de evento para que sean un poco más eficientes las acciones aplicadas.\n",
    "dataframe.rdd.filter(lambda x: x[1] == 'viewed product')\\\n",
    "    .map(lambda x: (x[5], 1)).reduceByKey(lambda a,b: a+b).takeOrdered(5, lambda x: -x[1])"
   ]
  },
  {
   "cell_type": "code",
   "execution_count": null,
   "metadata": {},
   "outputs": [],
   "source": []
  }
 ],
 "metadata": {
  "kernelspec": {
   "display_name": "PySpark",
   "language": "python",
   "name": "pyspark"
  },
  "language_info": {
   "codemirror_mode": {
    "name": "ipython",
    "version": 3
   },
   "file_extension": ".py",
   "mimetype": "text/x-python",
   "name": "python",
   "nbconvert_exporter": "python",
   "pygments_lexer": "ipython3",
   "version": "3.6.5"
  }
 },
 "nbformat": 4,
 "nbformat_minor": 2
}
