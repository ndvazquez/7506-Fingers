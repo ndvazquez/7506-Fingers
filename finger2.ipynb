{
 "cells": [
  {
   "cell_type": "code",
   "execution_count": 58,
   "metadata": {},
   "outputs": [],
   "source": [
    "import pyspark\n",
    "from pyspark.sql.functions import col"
   ]
  },
  {
   "cell_type": "code",
   "execution_count": 59,
   "metadata": {},
   "outputs": [],
   "source": [
    "dataframe = sqlContext.read.csv('data/events.csv')"
   ]
  },
  {
   "cell_type": "code",
   "execution_count": 60,
   "metadata": {},
   "outputs": [
    {
     "data": {
      "text/plain": [
       "pyspark.sql.dataframe.DataFrame"
      ]
     },
     "execution_count": 60,
     "metadata": {},
     "output_type": "execute_result"
    }
   ],
   "source": [
    "type(dataframe)"
   ]
  },
  {
   "cell_type": "code",
   "execution_count": 61,
   "metadata": {},
   "outputs": [
    {
     "name": "stdout",
     "output_type": "stream",
     "text": [
      "+-----------------+------+\n",
      "|              _c1| count|\n",
      "+-----------------+------+\n",
      "|   viewed product|528931|\n",
      "|    brand listing| 98635|\n",
      "|     visited site| 87378|\n",
      "|  ad campaign hit| 82827|\n",
      "|  generic listing| 67534|\n",
      "|searched products| 56073|\n",
      "|search engine hit| 50957|\n",
      "|         checkout| 33735|\n",
      "|       staticpage|  3598|\n",
      "|       conversion|  1172|\n",
      "|             lead|   448|\n",
      "|            event|     1|\n",
      "+-----------------+------+\n",
      "\n"
     ]
    }
   ],
   "source": [
    "# Versión poco eficiente en memoria ya que el sort se realiza fuera del cluster (creo).\n",
    "# Esto lo hago para verificar el resultado posterior, para chequear lo que haga de forma Sparkstica.\n",
    "\n",
    "dataframe.groupBy('_c1').count().sort(col('count').desc()).show()"
   ]
  },
  {
   "cell_type": "code",
   "execution_count": 62,
   "metadata": {},
   "outputs": [
    {
     "data": {
      "text/plain": [
       "[('viewed product', 528931)]"
      ]
     },
     "execution_count": 62,
     "metadata": {},
     "output_type": "execute_result"
    }
   ],
   "source": [
    "# Vamos a tratar al dataframe como un RDD, y aplicar lo visto en clase de utilizar tuplas para poder contar\n",
    "# y ordenar los resultados con reduceByKey y un takeOrdered.\n",
    "\n",
    "dataframe.rdd.map(lambda x: (x[1], 1)).reduceByKey(lambda a,b: a+b).takeOrdered(1, lambda x: -x[1])"
   ]
  },
  {
   "cell_type": "code",
   "execution_count": 63,
   "metadata": {},
   "outputs": [
    {
     "data": {
      "text/plain": [
       "[('2830.0', 4007),\n",
       " ('2829.0', 3466),\n",
       " ('2831.0', 3423),\n",
       " ('8443.0', 3265),\n",
       " ('12758.0', 2714)]"
      ]
     },
     "execution_count": 63,
     "metadata": {},
     "output_type": "execute_result"
    }
   ],
   "source": [
    "# Aplicamos la misma idea, sólo que antes filtramos por tipo de evento.\n",
    "dataframe.rdd.filter(lambda x: x[1] == 'viewed product')\\\n",
    "    .map(lambda x: (x[4], 1)).reduceByKey(lambda a,b: a+b).takeOrdered(5, lambda x: -x[1])"
   ]
  },
  {
   "cell_type": "code",
   "execution_count": null,
   "metadata": {},
   "outputs": [],
   "source": []
  }
 ],
 "metadata": {
  "kernelspec": {
   "display_name": "PySpark",
   "language": "python",
   "name": "pyspark"
  },
  "language_info": {
   "codemirror_mode": {
    "name": "ipython",
    "version": 3
   },
   "file_extension": ".py",
   "mimetype": "text/x-python",
   "name": "python",
   "nbconvert_exporter": "python",
   "pygments_lexer": "ipython3",
   "version": "3.6.5"
  }
 },
 "nbformat": 4,
 "nbformat_minor": 2
}
